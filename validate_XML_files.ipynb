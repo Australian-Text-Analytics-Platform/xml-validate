{
 "cells": [
  {
   "cell_type": "markdown",
   "id": "ba1cc62a",
   "metadata": {},
   "source": [
    "# Validate all XML files in a folder\n",
    "### change the folder_path to point to the folder holding the XML files \n",
    "### then run the cell"
   ]
  },
  {
   "cell_type": "code",
   "execution_count": null,
   "id": "3e043aee",
   "metadata": {},
   "outputs": [],
   "source": [
    "import os\n",
    "import xml.etree.ElementTree as ET\n",
    "\n",
    "def validate_xml_files(folder_path):\n",
    "    # Iterate over all files in the folder\n",
    "    for filename in os.listdir(folder_path):\n",
    "        if filename.endswith('.xml'):\n",
    "            file_path = os.path.join(folder_path, filename)\n",
    "            print(\"--------------------------------------\")\n",
    "            print(f\"Validating file: {file_path}\")\n",
    "            \n",
    "            try:\n",
    "                # Parse XML file\n",
    "                tree = ET.parse(file_path)\n",
    "                root = tree.getroot()\n",
    "                print(\"XML file is well-formed and complete.\")\n",
    "            except ET.ParseError as e:\n",
    "                print(f\"Error parsing XML file: {e}\")\n",
    "            except Exception as e:\n",
    "                print(f\"An error occurred: {e}\")\n",
    "\n",
    "# Replace 'folder_path' with the path to your folder containing XML files\n",
    "folder_path = './'\n",
    "\n",
    "validate_xml_files(folder_path)"
   ]
  }
 ],
 "metadata": {
  "kernelspec": {
   "display_name": "Python 3 (ipykernel)",
   "language": "python",
   "name": "python3"
  },
  "language_info": {
   "codemirror_mode": {
    "name": "ipython",
    "version": 3
   },
   "file_extension": ".py",
   "mimetype": "text/x-python",
   "name": "python",
   "nbconvert_exporter": "python",
   "pygments_lexer": "ipython3",
   "version": "3.10.9"
  }
 },
 "nbformat": 4,
 "nbformat_minor": 5
}
